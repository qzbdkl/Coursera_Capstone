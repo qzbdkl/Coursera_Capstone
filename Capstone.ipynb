{
 "cells": [
  {
   "cell_type": "markdown",
   "metadata": {},
   "source": [
    "# Larry's Final Project\n",
    "## For Coursera Course Capstone\n",
    "\n",
    "### This is a data-driven project to guide business owners to choose their new store location in Toronto, Canada\n",
    "<br>\n",
    "\n",
    "### I use Foursquare Database System to interact with Toronto data. And it would show the result that contains multiple categories for different business owners.\n",
    "<br>\n",
    "\n",
    "### The most important part of this project is that I need to customize data and analysis process to make it suitable for different kinds of business."
   ]
  },
  {
   "cell_type": "code",
   "execution_count": 1,
   "metadata": {},
   "outputs": [],
   "source": [
    "import pandas as pd\n",
    "import numpy as np\n",
    "import json\n",
    "import requests\n",
    "from pandas.io.json import json_normalize"
   ]
  },
  {
   "cell_type": "code",
   "execution_count": 7,
   "metadata": {},
   "outputs": [],
   "source": [
    "import xlrd"
   ]
  },
  {
   "cell_type": "code",
   "execution_count": 8,
   "metadata": {},
   "outputs": [],
   "source": [
    "xlsfile = r\"/Users/apple/Desktop/Coursera/capstone1.xlsx\"\n",
    "data = xlrd.open_workbook(xlsfile)"
   ]
  },
  {
   "cell_type": "code",
   "execution_count": 9,
   "metadata": {},
   "outputs": [],
   "source": [
    "df = pd.read_excel(xlsfile)"
   ]
  },
  {
   "cell_type": "markdown",
   "metadata": {},
   "source": [
    "### This is the basic dataframe used in Week 3, as fundamental geographic data"
   ]
  },
  {
   "cell_type": "code",
   "execution_count": 10,
   "metadata": {},
   "outputs": [
    {
     "data": {
      "text/html": [
       "<div>\n",
       "<style scoped>\n",
       "    .dataframe tbody tr th:only-of-type {\n",
       "        vertical-align: middle;\n",
       "    }\n",
       "\n",
       "    .dataframe tbody tr th {\n",
       "        vertical-align: top;\n",
       "    }\n",
       "\n",
       "    .dataframe thead th {\n",
       "        text-align: right;\n",
       "    }\n",
       "</style>\n",
       "<table border=\"1\" class=\"dataframe\">\n",
       "  <thead>\n",
       "    <tr style=\"text-align: right;\">\n",
       "      <th></th>\n",
       "      <th>Unnamed: 0</th>\n",
       "      <th>Postcode</th>\n",
       "      <th>Borough</th>\n",
       "      <th>Neighborhood</th>\n",
       "      <th>Latitude</th>\n",
       "      <th>Longitude</th>\n",
       "    </tr>\n",
       "  </thead>\n",
       "  <tbody>\n",
       "    <tr>\n",
       "      <th>0</th>\n",
       "      <td>0</td>\n",
       "      <td>M1B</td>\n",
       "      <td>Scarborough</td>\n",
       "      <td>Rouge, Malvern</td>\n",
       "      <td>43.806686</td>\n",
       "      <td>-79.194353</td>\n",
       "    </tr>\n",
       "    <tr>\n",
       "      <th>1</th>\n",
       "      <td>1</td>\n",
       "      <td>M1C</td>\n",
       "      <td>Scarborough</td>\n",
       "      <td>Highland Creek, Rouge Hill, Port Union</td>\n",
       "      <td>43.784535</td>\n",
       "      <td>-79.160497</td>\n",
       "    </tr>\n",
       "    <tr>\n",
       "      <th>2</th>\n",
       "      <td>2</td>\n",
       "      <td>M1E</td>\n",
       "      <td>Scarborough</td>\n",
       "      <td>Guildwood, Morningside, West Hill</td>\n",
       "      <td>43.763573</td>\n",
       "      <td>-79.188711</td>\n",
       "    </tr>\n",
       "    <tr>\n",
       "      <th>3</th>\n",
       "      <td>3</td>\n",
       "      <td>M1G</td>\n",
       "      <td>Scarborough</td>\n",
       "      <td>Woburn</td>\n",
       "      <td>43.770992</td>\n",
       "      <td>-79.216917</td>\n",
       "    </tr>\n",
       "    <tr>\n",
       "      <th>4</th>\n",
       "      <td>4</td>\n",
       "      <td>M1H</td>\n",
       "      <td>Scarborough</td>\n",
       "      <td>Cedarbrae</td>\n",
       "      <td>43.773136</td>\n",
       "      <td>-79.239476</td>\n",
       "    </tr>\n",
       "  </tbody>\n",
       "</table>\n",
       "</div>"
      ],
      "text/plain": [
       "   Unnamed: 0 Postcode      Borough                            Neighborhood  \\\n",
       "0           0      M1B  Scarborough                          Rouge, Malvern   \n",
       "1           1      M1C  Scarborough  Highland Creek, Rouge Hill, Port Union   \n",
       "2           2      M1E  Scarborough       Guildwood, Morningside, West Hill   \n",
       "3           3      M1G  Scarborough                                  Woburn   \n",
       "4           4      M1H  Scarborough                               Cedarbrae   \n",
       "\n",
       "    Latitude  Longitude  \n",
       "0  43.806686 -79.194353  \n",
       "1  43.784535 -79.160497  \n",
       "2  43.763573 -79.188711  \n",
       "3  43.770992 -79.216917  \n",
       "4  43.773136 -79.239476  "
      ]
     },
     "execution_count": 10,
     "metadata": {},
     "output_type": "execute_result"
    }
   ],
   "source": [
    "df.head()"
   ]
  },
  {
   "cell_type": "markdown",
   "metadata": {},
   "source": [
    "## Next step is to identify different location request from business owners"
   ]
  },
  {
   "cell_type": "markdown",
   "metadata": {},
   "source": [
    "### since there is no existing data of request, so I asked some of my friends who have their own business, stores or have plan to start their business in Toronto. "
   ]
  },
  {
   "cell_type": "code",
   "execution_count": 2,
   "metadata": {},
   "outputs": [
    {
     "data": {
      "text/html": [
       "<div>\n",
       "<style scoped>\n",
       "    .dataframe tbody tr th:only-of-type {\n",
       "        vertical-align: middle;\n",
       "    }\n",
       "\n",
       "    .dataframe tbody tr th {\n",
       "        vertical-align: top;\n",
       "    }\n",
       "\n",
       "    .dataframe thead th {\n",
       "        text-align: right;\n",
       "    }\n",
       "</style>\n",
       "<table border=\"1\" class=\"dataframe\">\n",
       "  <thead>\n",
       "    <tr style=\"text-align: right;\">\n",
       "      <th></th>\n",
       "      <th>Unnamed: 0</th>\n",
       "      <th>Store_name</th>\n",
       "      <th>Owner</th>\n",
       "      <th>Is_restaurant</th>\n",
       "      <th>Category</th>\n",
       "      <th>Is_chain</th>\n",
       "      <th>Age</th>\n",
       "      <th>Budget</th>\n",
       "    </tr>\n",
       "  </thead>\n",
       "  <tbody>\n",
       "    <tr>\n",
       "      <th>0</th>\n",
       "      <td>0</td>\n",
       "      <td>ABC</td>\n",
       "      <td>Jack</td>\n",
       "      <td>0</td>\n",
       "      <td>Bar</td>\n",
       "      <td>0</td>\n",
       "      <td>0</td>\n",
       "      <td>100</td>\n",
       "    </tr>\n",
       "    <tr>\n",
       "      <th>1</th>\n",
       "      <td>1</td>\n",
       "      <td>DEF</td>\n",
       "      <td>Lisa</td>\n",
       "      <td>1</td>\n",
       "      <td>Res</td>\n",
       "      <td>0</td>\n",
       "      <td>5</td>\n",
       "      <td>500</td>\n",
       "    </tr>\n",
       "    <tr>\n",
       "      <th>2</th>\n",
       "      <td>2</td>\n",
       "      <td>GHI</td>\n",
       "      <td>Linda</td>\n",
       "      <td>1</td>\n",
       "      <td>Res</td>\n",
       "      <td>1</td>\n",
       "      <td>15</td>\n",
       "      <td>800</td>\n",
       "    </tr>\n",
       "    <tr>\n",
       "      <th>3</th>\n",
       "      <td>3</td>\n",
       "      <td>JKL</td>\n",
       "      <td>Mary</td>\n",
       "      <td>0</td>\n",
       "      <td>Gro</td>\n",
       "      <td>0</td>\n",
       "      <td>2</td>\n",
       "      <td>100</td>\n",
       "    </tr>\n",
       "    <tr>\n",
       "      <th>4</th>\n",
       "      <td>4</td>\n",
       "      <td>MNO</td>\n",
       "      <td>James</td>\n",
       "      <td>1</td>\n",
       "      <td>Res</td>\n",
       "      <td>1</td>\n",
       "      <td>7</td>\n",
       "      <td>700</td>\n",
       "    </tr>\n",
       "  </tbody>\n",
       "</table>\n",
       "</div>"
      ],
      "text/plain": [
       "   Unnamed: 0 Store_name  Owner  Is_restaurant Category  Is_chain  Age  Budget\n",
       "0           0        ABC   Jack              0      Bar         0    0     100\n",
       "1           1        DEF   Lisa              1      Res         0    5     500\n",
       "2           2        GHI  Linda              1      Res         1   15     800\n",
       "3           3        JKL   Mary              0      Gro         0    2     100\n",
       "4           4        MNO  James              1      Res         1    7     700"
      ]
     },
     "execution_count": 2,
     "metadata": {},
     "output_type": "execute_result"
    }
   ],
   "source": [
    "xlsfile1 = r\"/Users/apple/Desktop/Coursera/Business.xlsx\"\n",
    "df_b = pd.read_excel(xlsfile1)\n",
    "df_b.head()"
   ]
  },
  {
   "cell_type": "code",
   "execution_count": 5,
   "metadata": {},
   "outputs": [
    {
     "data": {
      "text/html": [
       "<div>\n",
       "<style scoped>\n",
       "    .dataframe tbody tr th:only-of-type {\n",
       "        vertical-align: middle;\n",
       "    }\n",
       "\n",
       "    .dataframe tbody tr th {\n",
       "        vertical-align: top;\n",
       "    }\n",
       "\n",
       "    .dataframe thead th {\n",
       "        text-align: right;\n",
       "    }\n",
       "</style>\n",
       "<table border=\"1\" class=\"dataframe\">\n",
       "  <thead>\n",
       "    <tr style=\"text-align: right;\">\n",
       "      <th></th>\n",
       "      <th>Unnamed: 0</th>\n",
       "      <th>Store_name</th>\n",
       "      <th>Owner</th>\n",
       "      <th>Is_restaurant</th>\n",
       "      <th>Category</th>\n",
       "      <th>Is_chain</th>\n",
       "      <th>Age</th>\n",
       "      <th>Budget</th>\n",
       "    </tr>\n",
       "  </thead>\n",
       "  <tbody>\n",
       "    <tr>\n",
       "      <th>0</th>\n",
       "      <td>0</td>\n",
       "      <td>ABC</td>\n",
       "      <td>Jack</td>\n",
       "      <td>0</td>\n",
       "      <td>Bar</td>\n",
       "      <td>0</td>\n",
       "      <td>0</td>\n",
       "      <td>100</td>\n",
       "    </tr>\n",
       "    <tr>\n",
       "      <th>1</th>\n",
       "      <td>1</td>\n",
       "      <td>DEF</td>\n",
       "      <td>Lisa</td>\n",
       "      <td>1</td>\n",
       "      <td>Res</td>\n",
       "      <td>0</td>\n",
       "      <td>5</td>\n",
       "      <td>500</td>\n",
       "    </tr>\n",
       "    <tr>\n",
       "      <th>2</th>\n",
       "      <td>2</td>\n",
       "      <td>GHI</td>\n",
       "      <td>Linda</td>\n",
       "      <td>1</td>\n",
       "      <td>Res</td>\n",
       "      <td>1</td>\n",
       "      <td>15</td>\n",
       "      <td>800</td>\n",
       "    </tr>\n",
       "    <tr>\n",
       "      <th>3</th>\n",
       "      <td>3</td>\n",
       "      <td>JKL</td>\n",
       "      <td>Mary</td>\n",
       "      <td>0</td>\n",
       "      <td>Gro</td>\n",
       "      <td>0</td>\n",
       "      <td>2</td>\n",
       "      <td>100</td>\n",
       "    </tr>\n",
       "    <tr>\n",
       "      <th>4</th>\n",
       "      <td>4</td>\n",
       "      <td>MNO</td>\n",
       "      <td>James</td>\n",
       "      <td>1</td>\n",
       "      <td>Res</td>\n",
       "      <td>1</td>\n",
       "      <td>7</td>\n",
       "      <td>700</td>\n",
       "    </tr>\n",
       "  </tbody>\n",
       "</table>\n",
       "</div>"
      ],
      "text/plain": [
       "   Unnamed: 0 Store_name  Owner  Is_restaurant Category  Is_chain  Age  Budget\n",
       "0           0        ABC   Jack              0      Bar         0    0     100\n",
       "1           1        DEF   Lisa              1      Res         0    5     500\n",
       "2           2        GHI  Linda              1      Res         1   15     800\n",
       "3           3        JKL   Mary              0      Gro         0    2     100\n",
       "4           4        MNO  James              1      Res         1    7     700"
      ]
     },
     "execution_count": 5,
     "metadata": {},
     "output_type": "execute_result"
    }
   ],
   "source": [
    "df_b.drop(['Unnamed: 0'], axis=1)\n",
    "df_b.head()"
   ]
  },
  {
   "cell_type": "markdown",
   "metadata": {},
   "source": [
    "### Is_restaurant is a dummy variable, because according to my survey, most of my friends would prefer start restaurants. In Category column, gro means grocery store, and Pha means pharmacy. \n",
    "<br>\n",
    "\n",
    "### Is_chain is also a dummy variable to check if it is a mature equity. Budget is in K CAD."
   ]
  },
  {
   "cell_type": "code",
   "execution_count": null,
   "metadata": {},
   "outputs": [],
   "source": []
  }
 ],
 "metadata": {
  "kernelspec": {
   "display_name": "Python 3",
   "language": "python",
   "name": "python3"
  },
  "language_info": {
   "codemirror_mode": {
    "name": "ipython",
    "version": 3
   },
   "file_extension": ".py",
   "mimetype": "text/x-python",
   "name": "python",
   "nbconvert_exporter": "python",
   "pygments_lexer": "ipython3",
   "version": "3.7.3"
  }
 },
 "nbformat": 4,
 "nbformat_minor": 2
}
